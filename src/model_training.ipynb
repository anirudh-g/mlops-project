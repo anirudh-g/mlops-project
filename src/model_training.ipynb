{
 "cells": [
  {
   "cell_type": "code",
   "execution_count": 15,
   "metadata": {},
   "outputs": [],
   "source": [
    "import pandas as pd\n",
    "import numpy as np\n",
    "from sklearn import pipeline\n",
    "from sklearn import preprocessing\n",
    "from sklearn import compose\n",
    "from sklearn import metrics\n",
    "from sklearn import model_selection\n",
    "from sklearn import ensemble\n",
    "import xgboost as xgb\n",
    "import optuna"
   ]
  },
  {
   "cell_type": "code",
   "execution_count": 16,
   "metadata": {},
   "outputs": [],
   "source": [
    "df = pd.read_csv('/home/ubuntu/mlops-project/data/heart_failure_clinical_records_dataset.csv')\n",
    "y = df['DEATH_EVENT']\n",
    "X = df.drop(['DEATH_EVENT'], axis=1)\n",
    "\n",
    "X_train, X_val, y_train, y_val = model_selection.train_test_split(X, y, random_state=42, test_size=0.2)"
   ]
  },
  {
   "cell_type": "code",
   "execution_count": 24,
   "metadata": {},
   "outputs": [],
   "source": [
    "numeric_transformer = pipeline.Pipeline(steps=[\n",
    "        ('outliers', preprocessing.RobustScaler(quantile_range=(5,95))),\n",
    "        ('scale', preprocessing.MinMaxScaler())\n",
    "    ])\n",
    "\n",
    "categorical_tranformer = pipeline.Pipeline(steps=[\n",
    "        ('encode', preprocessing.OrdinalEncoder(handle_unknown='use_encoded_value', unknown_value=99999))\n",
    "    ])\n",
    "\n",
    "preprocess_pipeline = compose.ColumnTransformer(\n",
    "        transformers=\n",
    "        [\n",
    "            ('num', numeric_transformer, compose.make_column_selector(dtype_exclude='object')), \n",
    "            ('cat', categorical_tranformer, compose.make_column_selector(dtype_include='object')), \n",
    "        ],\n",
    "\n",
    "        remainder='passthrough')\n",
    "\n",
    "\n",
    "clf = pipeline.Pipeline(steps=[\n",
    "        ('preprocessor', preprocess_pipeline),      \n",
    "        ('model', ensemble.RandomForestClassifier(random_state=42))\n",
    "        ]\n",
    "    )"
   ]
  },
  {
   "cell_type": "code",
   "execution_count": 27,
   "metadata": {},
   "outputs": [],
   "source": [
    "def objective(trial, clf, X_train, y_train):\n",
    "    params = {\n",
    "        #'model__eta': trial.suggest_float('eta', 0.2, 0.8),\n",
    "        'model__max_depth': trial.suggest_int('max_depth', 2, 10)\n",
    "    }\n",
    "    clf.train(X_train, y_train)\n",
    "    return metrics.accuracy_score()"
   ]
  },
  {
   "cell_type": "code",
   "execution_count": 28,
   "metadata": {},
   "outputs": [
    {
     "name": "stderr",
     "output_type": "stream",
     "text": [
      "\u001b[32m[I 2022-08-31 14:45:55,249]\u001b[0m A new study created in memory with name: no-name-b46fecd4-a29a-4799-9290-344aec954bec\u001b[0m\n",
      "\u001b[32m[I 2022-08-31 14:45:55,578]\u001b[0m Trial 0 finished with value: 0.8619747899159664 and parameters: {'max_depth': 8}. Best is trial 0 with value: 0.8619747899159664.\u001b[0m\n",
      "\u001b[32m[I 2022-08-31 14:45:55,891]\u001b[0m Trial 1 finished with value: 0.8619747899159664 and parameters: {'max_depth': 2}. Best is trial 0 with value: 0.8619747899159664.\u001b[0m\n",
      "\u001b[32m[I 2022-08-31 14:45:56,215]\u001b[0m Trial 2 finished with value: 0.8619747899159664 and parameters: {'max_depth': 7}. Best is trial 0 with value: 0.8619747899159664.\u001b[0m\n",
      "\u001b[32m[I 2022-08-31 14:45:56,535]\u001b[0m Trial 3 finished with value: 0.8619747899159664 and parameters: {'max_depth': 8}. Best is trial 0 with value: 0.8619747899159664.\u001b[0m\n",
      "\u001b[32m[I 2022-08-31 14:45:56,847]\u001b[0m Trial 4 finished with value: 0.8619747899159664 and parameters: {'max_depth': 6}. Best is trial 0 with value: 0.8619747899159664.\u001b[0m\n",
      "\u001b[32m[I 2022-08-31 14:45:57,160]\u001b[0m Trial 5 finished with value: 0.8619747899159664 and parameters: {'max_depth': 4}. Best is trial 0 with value: 0.8619747899159664.\u001b[0m\n",
      "\u001b[32m[I 2022-08-31 14:45:57,481]\u001b[0m Trial 6 finished with value: 0.8619747899159664 and parameters: {'max_depth': 3}. Best is trial 0 with value: 0.8619747899159664.\u001b[0m\n",
      "\u001b[32m[I 2022-08-31 14:45:57,795]\u001b[0m Trial 7 finished with value: 0.8619747899159664 and parameters: {'max_depth': 8}. Best is trial 0 with value: 0.8619747899159664.\u001b[0m\n",
      "\u001b[32m[I 2022-08-31 14:45:58,107]\u001b[0m Trial 8 finished with value: 0.8619747899159664 and parameters: {'max_depth': 3}. Best is trial 0 with value: 0.8619747899159664.\u001b[0m\n",
      "\u001b[32m[I 2022-08-31 14:45:58,418]\u001b[0m Trial 9 finished with value: 0.8619747899159664 and parameters: {'max_depth': 2}. Best is trial 0 with value: 0.8619747899159664.\u001b[0m\n",
      "\u001b[32m[I 2022-08-31 14:45:58,747]\u001b[0m Trial 10 finished with value: 0.8619747899159664 and parameters: {'max_depth': 10}. Best is trial 0 with value: 0.8619747899159664.\u001b[0m\n",
      "\u001b[32m[I 2022-08-31 14:45:59,073]\u001b[0m Trial 11 finished with value: 0.8619747899159664 and parameters: {'max_depth': 5}. Best is trial 0 with value: 0.8619747899159664.\u001b[0m\n",
      "\u001b[32m[I 2022-08-31 14:45:59,387]\u001b[0m Trial 12 finished with value: 0.8619747899159664 and parameters: {'max_depth': 10}. Best is trial 0 with value: 0.8619747899159664.\u001b[0m\n",
      "\u001b[32m[I 2022-08-31 14:45:59,711]\u001b[0m Trial 13 finished with value: 0.8619747899159664 and parameters: {'max_depth': 7}. Best is trial 0 with value: 0.8619747899159664.\u001b[0m\n",
      "\u001b[32m[I 2022-08-31 14:46:00,034]\u001b[0m Trial 14 finished with value: 0.8619747899159664 and parameters: {'max_depth': 9}. Best is trial 0 with value: 0.8619747899159664.\u001b[0m\n",
      "\u001b[32m[I 2022-08-31 14:46:00,351]\u001b[0m Trial 15 finished with value: 0.8619747899159664 and parameters: {'max_depth': 5}. Best is trial 0 with value: 0.8619747899159664.\u001b[0m\n",
      "\u001b[32m[I 2022-08-31 14:46:00,667]\u001b[0m Trial 16 finished with value: 0.8619747899159664 and parameters: {'max_depth': 2}. Best is trial 0 with value: 0.8619747899159664.\u001b[0m\n",
      "\u001b[32m[I 2022-08-31 14:46:00,993]\u001b[0m Trial 17 finished with value: 0.8619747899159664 and parameters: {'max_depth': 9}. Best is trial 0 with value: 0.8619747899159664.\u001b[0m\n",
      "\u001b[32m[I 2022-08-31 14:46:01,311]\u001b[0m Trial 18 finished with value: 0.8619747899159664 and parameters: {'max_depth': 5}. Best is trial 0 with value: 0.8619747899159664.\u001b[0m\n",
      "\u001b[32m[I 2022-08-31 14:46:01,633]\u001b[0m Trial 19 finished with value: 0.8619747899159664 and parameters: {'max_depth': 7}. Best is trial 0 with value: 0.8619747899159664.\u001b[0m\n"
     ]
    }
   ],
   "source": [
    "sampler = optuna.samplers.TPESampler(seed=10)\n",
    "study = optuna.create_study(sampler = sampler, direction='maximize')\n",
    "\n",
    "func = lambda trial: objective(trial, clf, X_train, y_train)\n",
    "study.optimize(func, n_trials=20)"
   ]
  },
  {
   "cell_type": "code",
   "execution_count": null,
   "metadata": {},
   "outputs": [],
   "source": []
  }
 ],
 "metadata": {
  "kernelspec": {
   "display_name": "Python 3.9.12 ('base')",
   "language": "python",
   "name": "python3"
  },
  "language_info": {
   "codemirror_mode": {
    "name": "ipython",
    "version": 3
   },
   "file_extension": ".py",
   "mimetype": "text/x-python",
   "name": "python",
   "nbconvert_exporter": "python",
   "pygments_lexer": "ipython3",
   "version": "3.9.12"
  },
  "orig_nbformat": 4,
  "vscode": {
   "interpreter": {
    "hash": "caf1c2fcf97217de91eafa76b907d50f9ea378f5ffbee7f571142d119bb6a771"
   }
  }
 },
 "nbformat": 4,
 "nbformat_minor": 2
}
